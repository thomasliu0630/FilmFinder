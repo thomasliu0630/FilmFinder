{
 "cells": [
  {
   "cell_type": "code",
   "execution_count": 1,
   "id": "37d2dc4c",
   "metadata": {},
   "outputs": [],
   "source": [
    "import requests\n",
    "import pandas as pd\n",
    "from datetime import datetime, timedelta"
   ]
  },
  {
   "cell_type": "code",
   "execution_count": 2,
   "id": "0a7baefd",
   "metadata": {},
   "outputs": [],
   "source": [
    "api_key = 'cd63a32f7aac7d22fbc21b29f6bd8bd1'"
   ]
  },
  {
   "cell_type": "code",
   "execution_count": 3,
   "id": "0edb7812",
   "metadata": {},
   "outputs": [
    {
     "name": "stdout",
     "output_type": "stream",
     "text": [
      "{28: 'Action', 12: 'Adventure', 16: 'Animation', 35: 'Comedy', 80: 'Crime', 99: 'Documentary', 18: 'Drama', 10751: 'Family', 14: 'Fantasy', 36: 'History', 27: 'Horror', 10402: 'Music', 9648: 'Mystery', 10749: 'Romance', 878: 'Science Fiction', 10770: 'TV Movie', 53: 'Thriller', 10752: 'War', 37: 'Western'}\n"
     ]
    }
   ],
   "source": [
    "#genre endpoint\n",
    "url = f'https://api.themoviedb.org/3/genre/movie/list?api_key={api_key}&language=en-US'\n",
    "response = requests.get(url)\n",
    "data = response.json()\n",
    "genre_dict = {genre['id']: genre['name'] for genre in data['genres']}\n",
    "print(genre_dict)"
   ]
  },
  {
   "cell_type": "code",
   "execution_count": 4,
   "id": "651657eb",
   "metadata": {},
   "outputs": [],
   "source": [
    "#movie discovery endpoint\n",
    "all_movies = []\n",
    "\n",
    "for page in range(1, 6):  # Pages 1 to 5\n",
    "    movie_url = f'https://api.themoviedb.org/3/discover/movie?api_key={api_key}&language=en-US&page={page}'\n",
    "    response = requests.get(movie_url)\n",
    "    data = response.json()\n",
    "    all_movies.extend(data['results'])"
   ]
  },
  {
   "cell_type": "code",
   "execution_count": 5,
   "id": "49f66d53",
   "metadata": {},
   "outputs": [
    {
     "name": "stdout",
     "output_type": "stream",
     "text": [
      "                      Title Release Date  Popularity  Vote Average  \\\n",
      "0  How to Train Your Dragon   2025-06-06   1018.8475         8.100   \n",
      "1                 M3GAN 2.0   2025-06-25    813.0378         7.760   \n",
      "2       Karate Kid: Legends   2025-05-08    542.4689         7.272   \n",
      "3                  Superman   2025-07-09    484.5812         7.456   \n",
      "4               Almost Cops   2025-07-10    488.6192         5.762   \n",
      "\n",
      "   Vote Count           Genre IDs  \n",
      "0         860     [14, 10751, 28]  \n",
      "1         286       [28, 878, 53]  \n",
      "2         437        [28, 12, 18]  \n",
      "3         806       [878, 12, 28]  \n",
      "4          65  [28, 35, 80, 9648]  \n"
     ]
    }
   ],
   "source": [
    "df = pd.DataFrame([{\n",
    "    'Title': movie['title'],\n",
    "    'Release Date': movie['release_date'],\n",
    "    'Popularity': movie['popularity'],\n",
    "    'Vote Average': movie['vote_average'],\n",
    "    'Vote Count': movie['vote_count'],\n",
    "    'Genre IDs': movie['genre_ids']\n",
    "} for movie in all_movies])\n",
    "\n",
    "print(df.head())"
   ]
  },
  {
   "cell_type": "code",
   "execution_count": 6,
   "id": "1ad54ad7",
   "metadata": {},
   "outputs": [
    {
     "name": "stdout",
     "output_type": "stream",
     "text": [
      "                           Title Release Date  Popularity  Vote Average  \\\n",
      "25    Kaiju No. 8: Mission Recon   2025-03-28    149.4817         7.955   \n",
      "26  Jokōsei torio: seikan shiken   1977-02-23    114.6703         7.300   \n",
      "27               Muromachi Burai   2025-01-17    126.8427         9.222   \n",
      "32                   The Amateur   2025-04-09     86.2601         7.000   \n",
      "43                        Belyas   2025-02-07     68.1647         7.350   \n",
      "51              Stepmom's Desire   2020-05-29     63.8128         7.360   \n",
      "57   Squid Game: Making Season 2   2025-01-02     51.6217         8.485   \n",
      "58                         Night   2024-09-07     53.8927        10.000   \n",
      "69                       Warfare   2025-04-09     47.1837         7.200   \n",
      "70           The Ugly Stepsister   2025-03-07     46.9958         7.200   \n",
      "71      Playboy Playmate Workout   1983-01-01     47.8645        10.000   \n",
      "72                      In Vitro   2025-03-27     74.7202         8.200   \n",
      "75                        Kayara   2025-01-02     47.1702         7.633   \n",
      "77                  新婚シリーズ　最初が肝心   1962-02-07     40.4908        10.000   \n",
      "82                       Dovbush   2023-08-24     43.5872         7.462   \n",
      "88                  新婚シリーズ　最初が肝心   1962-02-07     40.4908        10.000   \n",
      "99              My Fault: London   2025-02-12     37.3046         7.500   \n",
      "\n",
      "    Vote Count         Genre IDs                                Genres  \n",
      "25          22     [16, 28, 878]  [Animation, Action, Science Fiction]  \n",
      "26           3       [10749, 18]                      [Romance, Drama]  \n",
      "27           9          [28, 18]                       [Action, Drama]  \n",
      "32         799          [53, 28]                    [Thriller, Action]  \n",
      "43          10              [18]                               [Drama]  \n",
      "51          25       [18, 10749]                      [Drama, Romance]  \n",
      "57         425              [99]                         [Documentary]  \n",
      "58           2              [16]                           [Animation]  \n",
      "69         753       [10752, 28]                         [War, Action]  \n",
      "70         263  [27, 35, 14, 18]      [Horror, Comedy, Fantasy, Drama]  \n",
      "71           1                []                                    []  \n",
      "72           5     [27, 878, 53]   [Horror, Science Fiction, Thriller]  \n",
      "75          83   [16, 12, 10751]        [Animation, Adventure, Family]  \n",
      "77           1                []                                    []  \n",
      "82          26          [36, 18]                      [History, Drama]  \n",
      "88           1                []                                    []  \n",
      "99         424       [10749, 18]                      [Romance, Drama]  \n"
     ]
    }
   ],
   "source": [
    "# Convert genre IDs to genre names\n",
    "df['Genres'] = df['Genre IDs'].apply(lambda ids: [genre_dict.get(i, 'Unknown') for i in ids])\n",
    "\n",
    "# Convert Release Date column to datetime\n",
    "df['Release Date'] = pd.to_datetime(df['Release Date'], errors='coerce')\n",
    "\n",
    "cutoff_date = datetime.today() - timedelta(days=90)\n",
    "\n",
    "# Filtering logic\n",
    "hidden_gems = df[(df['Vote Average'] >= 7.0) & (df['Vote Count'] < 1000) & (df['Release Date'] < cutoff_date)]\n",
    "print(hidden_gems)"
   ]
  }
 ],
 "metadata": {
  "kernelspec": {
   "display_name": "Python 3 (ipykernel)",
   "language": "python",
   "name": "python3"
  },
  "language_info": {
   "codemirror_mode": {
    "name": "ipython",
    "version": 3
   },
   "file_extension": ".py",
   "mimetype": "text/x-python",
   "name": "python",
   "nbconvert_exporter": "python",
   "pygments_lexer": "ipython3",
   "version": "3.11.5"
  }
 },
 "nbformat": 4,
 "nbformat_minor": 5
}
