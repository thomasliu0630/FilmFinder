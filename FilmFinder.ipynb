{
 "cells": [
  {
   "cell_type": "code",
   "execution_count": 1,
   "id": "37d2dc4c",
   "metadata": {},
   "outputs": [],
   "source": [
    "import requests\n",
    "import pandas as pd\n",
    "from datetime import datetime, timedelta\n",
    "from sklearn.preprocessing import MultiLabelBinarizer\n",
    "from sklearn.metrics.pairwise import cosine_similarity"
   ]
  },
  {
   "cell_type": "code",
   "execution_count": 2,
   "id": "0a7baefd",
   "metadata": {},
   "outputs": [],
   "source": [
    "api_key = 'cd63a32f7aac7d22fbc21b29f6bd8bd1'"
   ]
  },
  {
   "cell_type": "code",
   "execution_count": 3,
   "id": "0edb7812",
   "metadata": {},
   "outputs": [
    {
     "name": "stdout",
     "output_type": "stream",
     "text": [
      "{28: 'Action', 12: 'Adventure', 16: 'Animation', 35: 'Comedy', 80: 'Crime', 99: 'Documentary', 18: 'Drama', 10751: 'Family', 14: 'Fantasy', 36: 'History', 27: 'Horror', 10402: 'Music', 9648: 'Mystery', 10749: 'Romance', 878: 'Science Fiction', 10770: 'TV Movie', 53: 'Thriller', 10752: 'War', 37: 'Western'}\n"
     ]
    }
   ],
   "source": [
    "#genre endpoint\n",
    "url = f'https://api.themoviedb.org/3/genre/movie/list?api_key={api_key}&language=en-US'\n",
    "response = requests.get(url)\n",
    "data = response.json()\n",
    "genre_dict = {genre['id']: genre['name'] for genre in data['genres']}\n",
    "print(genre_dict)"
   ]
  },
  {
   "cell_type": "code",
   "execution_count": 4,
   "id": "651657eb",
   "metadata": {},
   "outputs": [],
   "source": [
    "#movie discovery endpoint\n",
    "all_movies = []\n",
    "\n",
    "for page in range(1, 6):  # Pages 1 to 5\n",
    "    movie_url = f'https://api.themoviedb.org/3/discover/movie?api_key={api_key}&language=en-US&page={page}'\n",
    "    response = requests.get(movie_url)\n",
    "    data = response.json()\n",
    "    all_movies.extend(data['results'])"
   ]
  },
  {
   "cell_type": "code",
   "execution_count": 5,
   "id": "49f66d53",
   "metadata": {},
   "outputs": [
    {
     "name": "stdout",
     "output_type": "stream",
     "text": [
      "                      Title Release Date  Popularity  Vote Average  \\\n",
      "0  How to Train Your Dragon   2025-06-06   1173.2922         8.121   \n",
      "1                 M3GAN 2.0   2025-06-25    897.1130         7.738   \n",
      "2          Man with No Past   2025-01-13    549.8021         6.600   \n",
      "3       Karate Kid: Legends   2025-05-08    451.4609         7.283   \n",
      "4                  Superman   2025-07-09    434.5607         7.511   \n",
      "\n",
      "   Vote Count        Genre IDs  \n",
      "0         983  [14, 10751, 28]  \n",
      "1         361    [28, 878, 53]  \n",
      "2          19         [28, 18]  \n",
      "3         469     [28, 12, 18]  \n",
      "4         942    [878, 12, 28]  \n"
     ]
    }
   ],
   "source": [
    "df = pd.DataFrame([{\n",
    "    'Title': movie['title'],\n",
    "    'Release Date': movie['release_date'],\n",
    "    'Popularity': movie['popularity'],\n",
    "    'Vote Average': movie['vote_average'],\n",
    "    'Vote Count': movie['vote_count'],\n",
    "    'Genre IDs': movie['genre_ids']\n",
    "} for movie in all_movies])\n",
    "\n",
    "print(df.head())"
   ]
  },
  {
   "cell_type": "code",
   "execution_count": 6,
   "id": "1ad54ad7",
   "metadata": {},
   "outputs": [
    {
     "name": "stdout",
     "output_type": "stream",
     "text": [
      "                                         Title Release Date  Popularity  \\\n",
      "17                  Kaiju No. 8: Mission Recon   2025-03-28    174.7107   \n",
      "22                                  The Cellar   2024-09-08    118.8486   \n",
      "24                Jokōsei torio: seikan shiken   1977-02-23    114.1674   \n",
      "26                             Muromachi Burai   2025-01-17    106.9167   \n",
      "40                                    In Vitro   2025-03-27     81.8295   \n",
      "45                            Stepmom's Desire   2020-05-29     70.7375   \n",
      "49                                      Belyas   2025-02-07     68.0899   \n",
      "59                                      Ne Zha   2019-07-26     55.9741   \n",
      "61                                       Night   2024-09-07     54.1185   \n",
      "68                    Playboy Playmate Workout   1983-01-01     49.8804   \n",
      "77                 Squid Game: Making Season 2   2025-01-02     46.8564   \n",
      "79                                     Warfare   2025-04-09     45.1839   \n",
      "84                                     Dovbush   2023-08-24     43.2729   \n",
      "85  The Girl Downstairs Extra: Promised Future   2024-02-13     42.8809   \n",
      "91                                新婚シリーズ　最初が肝心   1962-02-07     40.3862   \n",
      "94                         The Ugly Stepsister   2025-03-07     39.5230   \n",
      "\n",
      "    Vote Average  Vote Count            Genre IDs  \\\n",
      "17         7.846          26        [16, 28, 878]   \n",
      "22         7.333           6                 [27]   \n",
      "24         7.300           3          [10749, 18]   \n",
      "26         9.222           9             [28, 18]   \n",
      "40         8.200           5        [27, 878, 53]   \n",
      "45         7.360          25          [18, 10749]   \n",
      "49         7.300          10                 [18]   \n",
      "59         7.950         565         [16, 14, 12]   \n",
      "61        10.000           2                 [16]   \n",
      "68        10.000           1                   []   \n",
      "77         8.500         424                 [99]   \n",
      "79         7.200         762          [10752, 28]   \n",
      "84         7.300          27             [36, 18]   \n",
      "85        10.000           1  [16, 35, 18, 10749]   \n",
      "91        10.000           1                   []   \n",
      "94         7.235         269     [27, 35, 14, 18]   \n",
      "\n",
      "                                  Genres  \n",
      "17  [Animation, Action, Science Fiction]  \n",
      "22                              [Horror]  \n",
      "24                      [Romance, Drama]  \n",
      "26                       [Action, Drama]  \n",
      "40   [Horror, Science Fiction, Thriller]  \n",
      "45                      [Drama, Romance]  \n",
      "49                               [Drama]  \n",
      "59       [Animation, Fantasy, Adventure]  \n",
      "61                           [Animation]  \n",
      "68                                    []  \n",
      "77                         [Documentary]  \n",
      "79                         [War, Action]  \n",
      "84                      [History, Drama]  \n",
      "85   [Animation, Comedy, Drama, Romance]  \n",
      "91                                    []  \n",
      "94      [Horror, Comedy, Fantasy, Drama]  \n"
     ]
    }
   ],
   "source": [
    "# Convert genre IDs to genre names\n",
    "df['Genres'] = df['Genre IDs'].apply(lambda ids: [genre_dict.get(i, 'Unknown') for i in ids])\n",
    "\n",
    "# Convert Release Date column to datetime\n",
    "df['Release Date'] = pd.to_datetime(df['Release Date'], errors='coerce')\n",
    "\n",
    "cutoff_date = datetime.today() - timedelta(days=90)\n",
    "\n",
    "# Filtering logic\n",
    "hidden_gems = df[(df['Vote Average'] >= 7.0) & (df['Vote Count'] < 1000) & (df['Release Date'] < cutoff_date)]\n",
    "print(hidden_gems)"
   ]
  },
  {
   "cell_type": "code",
   "execution_count": 7,
   "id": "8fc2ee45",
   "metadata": {},
   "outputs": [],
   "source": [
    "# one hot encoding: turn genres column into multiple binary columns\n",
    "mlb = MultiLabelBinarizer()\n",
    "genre_encoded = mlb.fit_transform(hidden_gems['Genres'])\n",
    "genre_df = pd.DataFrame(genre_encoded, columns=mlb.classes_, index=hidden_gems.index)\n",
    "\n",
    "# Merge into the original hidden_gems DataFrame\n",
    "hidden_gems_encoded = pd.concat([hidden_gems, genre_df], axis=1) "
   ]
  },
  {
   "cell_type": "code",
   "execution_count": 8,
   "id": "1ea12adf",
   "metadata": {},
   "outputs": [],
   "source": [
    "# 1. Find that movie's genre vector\n",
    "# 2. Compute cosine similarity with all other movies\n",
    "# 3. Return the top N similar movies (default = 5)\n",
    "def recommend_by_genre(title, top_n=5):\n",
    "    if title not in hidden_gems_encoded['Title'].values:\n",
    "        return f\"'{title}' not found in hidden gem list.\"\n",
    "    \n",
    "    # Get genre vector of the target movie\n",
    "    target_vector = hidden_gems_encoded.loc[hidden_gems_encoded['Title'] == title, mlb.classes_].values\n",
    "    \n",
    "    # Get genre vectors for all other movies\n",
    "    genre_matrix = hidden_gems_encoded[mlb.classes_].values\n",
    "    \n",
    "    # Compute cosine similarity\n",
    "    similarities = cosine_similarity(target_vector, genre_matrix)[0]\n",
    "    \n",
    "    # Create similarity DataFrame\n",
    "    hidden_gems_encoded['Similarity'] = similarities\n",
    "    \n",
    "    # Return top N most similar (excluding the movie itself)\n",
    "    results = hidden_gems_encoded[hidden_gems_encoded['Title'] != title]\n",
    "    results = results.sort_values(by='Similarity', ascending=False).head(top_n)\n",
    "    \n",
    "    return results[['Title', 'Genres', 'Vote Average', 'Similarity']]"
   ]
  },
  {
   "cell_type": "code",
   "execution_count": 9,
   "id": "04b344c8",
   "metadata": {},
   "outputs": [
    {
     "data": {
      "text/html": [
       "<div>\n",
       "<style scoped>\n",
       "    .dataframe tbody tr th:only-of-type {\n",
       "        vertical-align: middle;\n",
       "    }\n",
       "\n",
       "    .dataframe tbody tr th {\n",
       "        vertical-align: top;\n",
       "    }\n",
       "\n",
       "    .dataframe thead th {\n",
       "        text-align: right;\n",
       "    }\n",
       "</style>\n",
       "<table border=\"1\" class=\"dataframe\">\n",
       "  <thead>\n",
       "    <tr style=\"text-align: right;\">\n",
       "      <th></th>\n",
       "      <th>Title</th>\n",
       "      <th>Genres</th>\n",
       "      <th>Vote Average</th>\n",
       "      <th>Similarity</th>\n",
       "    </tr>\n",
       "  </thead>\n",
       "  <tbody>\n",
       "    <tr>\n",
       "      <th>49</th>\n",
       "      <td>Belyas</td>\n",
       "      <td>[Drama]</td>\n",
       "      <td>7.30</td>\n",
       "      <td>0.707107</td>\n",
       "    </tr>\n",
       "    <tr>\n",
       "      <th>24</th>\n",
       "      <td>Jokōsei torio: seikan shiken</td>\n",
       "      <td>[Romance, Drama]</td>\n",
       "      <td>7.30</td>\n",
       "      <td>0.500000</td>\n",
       "    </tr>\n",
       "    <tr>\n",
       "      <th>45</th>\n",
       "      <td>Stepmom's Desire</td>\n",
       "      <td>[Drama, Romance]</td>\n",
       "      <td>7.36</td>\n",
       "      <td>0.500000</td>\n",
       "    </tr>\n",
       "    <tr>\n",
       "      <th>79</th>\n",
       "      <td>Warfare</td>\n",
       "      <td>[War, Action]</td>\n",
       "      <td>7.20</td>\n",
       "      <td>0.500000</td>\n",
       "    </tr>\n",
       "    <tr>\n",
       "      <th>84</th>\n",
       "      <td>Dovbush</td>\n",
       "      <td>[History, Drama]</td>\n",
       "      <td>7.30</td>\n",
       "      <td>0.500000</td>\n",
       "    </tr>\n",
       "  </tbody>\n",
       "</table>\n",
       "</div>"
      ],
      "text/plain": [
       "                           Title            Genres  Vote Average  Similarity\n",
       "49                        Belyas           [Drama]          7.30    0.707107\n",
       "24  Jokōsei torio: seikan shiken  [Romance, Drama]          7.30    0.500000\n",
       "45              Stepmom's Desire  [Drama, Romance]          7.36    0.500000\n",
       "79                       Warfare     [War, Action]          7.20    0.500000\n",
       "84                       Dovbush  [History, Drama]          7.30    0.500000"
      ]
     },
     "execution_count": 9,
     "metadata": {},
     "output_type": "execute_result"
    }
   ],
   "source": [
    "recommend_by_genre('Muromachi Burai', top_n=5)"
   ]
  }
 ],
 "metadata": {
  "kernelspec": {
   "display_name": "Python 3 (ipykernel)",
   "language": "python",
   "name": "python3"
  },
  "language_info": {
   "codemirror_mode": {
    "name": "ipython",
    "version": 3
   },
   "file_extension": ".py",
   "mimetype": "text/x-python",
   "name": "python",
   "nbconvert_exporter": "python",
   "pygments_lexer": "ipython3",
   "version": "3.11.5"
  }
 },
 "nbformat": 4,
 "nbformat_minor": 5
}
